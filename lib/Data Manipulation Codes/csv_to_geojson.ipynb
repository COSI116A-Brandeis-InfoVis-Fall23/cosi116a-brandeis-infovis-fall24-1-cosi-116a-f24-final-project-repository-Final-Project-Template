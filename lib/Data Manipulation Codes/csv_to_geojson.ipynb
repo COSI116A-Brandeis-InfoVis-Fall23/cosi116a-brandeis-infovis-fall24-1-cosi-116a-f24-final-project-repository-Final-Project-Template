{
 "cells": [
  {
   "cell_type": "code",
   "execution_count": 2,
   "id": "71159532-8063-42e1-aebb-24a5a1928b12",
   "metadata": {},
   "outputs": [
    {
     "data": {
      "text/plain": [
       "'Subway_ridership_true_final_formatted.geojson'"
      ]
     },
     "execution_count": 2,
     "metadata": {},
     "output_type": "execute_result"
    }
   ],
   "source": [
    "import csv\n",
    "from datetime import datetime\n",
    "import json\n",
    "\n",
    "# File paths\n",
    "csv_file_path = 'Subway_ridership_true_final.csv'\n",
    "geojson_output_path = 'Subway_ridership_true_final_formatted.geojson'\n",
    "\n",
    "# Adjusted script to match the format of geocoded1.geojson\n",
    "adjusted_features = []\n",
    "\n",
    "with open(csv_file_path, newline='') as csvfile:\n",
    "    reader = csv.reader(csvfile, delimiter=',')\n",
    "    # Skip the header row\n",
    "    next(reader, None)\n",
    "    for time, station_complex, sum_ridership, latitude, longitude in reader:\n",
    "        # Convert latitude and longitude to float\n",
    "        try:\n",
    "            latitude, longitude = map(float, (latitude, longitude))\n",
    "        except ValueError as e:\n",
    "            print(f\"Error parsing latitude/longitude: {e}\")\n",
    "            continue  # Skip rows with invalid coordinates\n",
    "\n",
    "        formatted_time = time.strip()\n",
    "\n",
    "        # Convert sum_ridership to integer\n",
    "        try:\n",
    "            sum_ridership = int(sum_ridership)\n",
    "        except ValueError as e:\n",
    "            print(f\"Error parsing sum_ridership '{sum_ridership}': {e}\")\n",
    "            sum_ridership = None  # Use None for invalid values\n",
    "\n",
    "        # Add feature to the list\n",
    "        adjusted_features.append({\n",
    "            'type': 'Feature',\n",
    "            'geometry': {\n",
    "                'type': 'Point',\n",
    "                'coordinates': [longitude, latitude]\n",
    "            },\n",
    "            'properties': {\n",
    "                'Station': station_complex,\n",
    "                'Time': formatted_time,\n",
    "                'Ridership': sum_ridership,\n",
    "            }\n",
    "        })\n",
    "\n",
    "# Create the FeatureCollection to match the provided format\n",
    "adjusted_collection = {\n",
    "    'type': 'FeatureCollection',\n",
    "    'features': adjusted_features\n",
    "}\n",
    "\n",
    "# Save to GeoJSON file\n",
    "with open(geojson_output_path, \"w\") as f:\n",
    "    json.dump(adjusted_collection, f, indent=2)\n",
    "\n",
    "geojson_output_path\n"
   ]
  },
  {
   "cell_type": "code",
   "execution_count": null,
   "id": "8f795982-2a87-4b39-b20e-61c0ac536847",
   "metadata": {},
   "outputs": [],
   "source": []
  }
 ],
 "metadata": {
  "kernelspec": {
   "display_name": "Python 3 (ipykernel)",
   "language": "python",
   "name": "python3"
  },
  "language_info": {
   "codemirror_mode": {
    "name": "ipython",
    "version": 3
   },
   "file_extension": ".py",
   "mimetype": "text/x-python",
   "name": "python",
   "nbconvert_exporter": "python",
   "pygments_lexer": "ipython3",
   "version": "3.10.6"
  }
 },
 "nbformat": 4,
 "nbformat_minor": 5
}
